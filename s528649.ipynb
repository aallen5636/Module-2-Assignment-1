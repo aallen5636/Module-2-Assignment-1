{
 "cells": [
  {
   "cell_type": "markdown",
   "id": "83dbedaa-1591-470f-84d0-623a13d1202e",
   "metadata": {},
   "source": [
    "10. Create a new Jupyter Notebook (the name of the notebook should be your S number). Add a Markdown cell that contains your name. Add a Code cell and write Python that uses loops to draw the following pattern:"
   ]
  },
  {
   "cell_type": "markdown",
   "id": "d0764ff3-8220-4b91-88cf-f41d99c35e4b",
   "metadata": {},
   "source": [
    "Ashley Allen"
   ]
  },
  {
   "cell_type": "code",
   "execution_count": 14,
   "id": "e02ec11d-0348-4d03-bc13-1bb34a5119f1",
   "metadata": {},
   "outputs": [
    {
     "name": "stdout",
     "output_type": "stream",
     "text": [
      "*      *\n",
      "**    **\n",
      "***  ***\n",
      "********\n"
     ]
    }
   ],
   "source": [
    "list1 = ['*      *', '**    **', '***  ***', '********']\n",
    "for v in list1:\n",
    "    print(v)\n",
    "\n",
    "for v in list1:\n",
    "    print"
   ]
  }
 ],
 "metadata": {
  "kernelspec": {
   "display_name": "Python 3 (ipykernel)",
   "language": "python",
   "name": "python3"
  },
  "language_info": {
   "codemirror_mode": {
    "name": "ipython",
    "version": 3
   },
   "file_extension": ".py",
   "mimetype": "text/x-python",
   "name": "python",
   "nbconvert_exporter": "python",
   "pygments_lexer": "ipython3",
   "version": "3.9.12"
  }
 },
 "nbformat": 4,
 "nbformat_minor": 5
}
