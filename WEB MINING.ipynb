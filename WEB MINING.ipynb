{
 "cells": [
  {
   "cell_type": "markdown",
   "id": "e9335212-02b3-44b2-a493-4595da718300",
   "metadata": {},
   "source": [
    "# Web Mining and Applied NLP (44-620)"
   ]
  },
  {
   "cell_type": "markdown",
   "id": "9a7e7f5d-3a99-4785-8d4a-f45559d8a84b",
   "metadata": {},
   "source": [
    "## Python Notebooks, Basics, and Data Structures"
   ]
  },
  {
   "cell_type": "markdown",
   "id": "29083388-8498-4836-8b8a-c50f0e31a791",
   "metadata": {},
   "source": [
    "### Student Name: Ashley Allen"
   ]
  },
  {
   "cell_type": "markdown",
   "id": "38348b15-855c-426c-a4f9-38feeacf4417",
   "metadata": {},
   "source": [
    "2. Write code that divides any two numbers, stores the result in a variable, and prints the result with an appropriate label."
   ]
  },
  {
   "cell_type": "code",
   "execution_count": 1,
   "id": "c1f465c5-4f64-4090-9bca-030f02470f10",
   "metadata": {},
   "outputs": [
    {
     "data": {
      "text/plain": [
       "5.0"
      ]
     },
     "execution_count": 1,
     "metadata": {},
     "output_type": "execute_result"
    }
   ],
   "source": [
    "10/2"
   ]
  },
  {
   "cell_type": "code",
   "execution_count": 2,
   "id": "026a685a-30a6-4c14-b415-18c885b31262",
   "metadata": {},
   "outputs": [],
   "source": [
    "a=5.0"
   ]
  },
  {
   "cell_type": "code",
   "execution_count": 3,
   "id": "33e116ea-3735-4e95-87a0-5fec6754a59c",
   "metadata": {},
   "outputs": [
    {
     "name": "stdout",
     "output_type": "stream",
     "text": [
      "a=5\n"
     ]
    }
   ],
   "source": [
    "print(\"a=5\")"
   ]
  },
  {
   "cell_type": "markdown",
   "id": "e32095a6-2f3c-4045-ae57-8cd8b33fcc12",
   "metadata": {},
   "source": [
    "3. Using loops (and potentially conditionals), write Python code that prints the factorial of each integer from 1 through 10 (which you can store in a variable if you want). The factorial of an integer is the product of all of the integers of 1 through the number. Print the result with an appropriate label"
   ]
  },
  {
   "cell_type": "code",
   "execution_count": 5,
   "id": "61015be0-19bc-48b2-b65e-e4cfc645a9ef",
   "metadata": {},
   "outputs": [
    {
     "name": "stdout",
     "output_type": "stream",
     "text": [
      "The sum is 49\n"
     ]
    }
   ],
   "source": [
    "numbers = [1, 2, 3, 4, 5, 6, 7, 9, 10]\n",
    "\n",
    "sum = 2\n",
    "\n",
    "for val in numbers:\n",
    "    sum = sum+val\n",
    "\n",
    "print(\"The sum is\", sum)"
   ]
  },
  {
   "cell_type": "markdown",
   "id": "71601107-6e52-474f-919e-2595b7557def",
   "metadata": {},
   "source": [
    "4. Write a python function that takes a single parameter and calculates and returns the average (mean) of the values in the parameter (which you may assume is iterable).  Show that your function works by printing the result of calling the function on the list in the cell below.\""
   ]
  },
  {
   "cell_type": "code",
   "execution_count": 98,
   "id": "e0b2b15c-cc15-4cdc-8657-c7f0b22060b3",
   "metadata": {},
   "outputs": [
    {
     "name": "stdout",
     "output_type": "stream",
     "text": [
      "Average of the list = 0.0\n"
     ]
    }
   ],
   "source": [
    "def Average(testlist):\n",
    "    sum_of_list = 0\n",
    "    for i in range(len(testlist)):\n",
    "        sum_of_list += testlist[i]\n",
    "    average = sum_of_list/len(testlist)\n",
    "    return average\n",
    "  \n",
    "testlist = [1,-1,2,-2,3,-3,4,-4]\n",
    "average = Average(testlist)\n",
    "print(\"Average of the list =\", (average))"
   ]
  },
  {
   "cell_type": "markdown",
   "id": "0715fdda-0adf-42c1-987d-814601b47ca7",
   "metadata": {},
   "source": [
    "5. Using your mean function above, write a function that calculates the variance of the list of numbers"
   ]
  },
  {
   "cell_type": "code",
   "execution_count": 99,
   "id": "f153da88-ae9b-461e-913f-c96a377e8ec8",
   "metadata": {},
   "outputs": [
    {
     "name": "stdout",
     "output_type": "stream",
     "text": [
      "Average of the list = -0.3881\n"
     ]
    }
   ],
   "source": [
    "def Average(list1):\n",
    "    sum_of_list = 0\n",
    "    for i in range(len(list1)):\n",
    "        sum_of_list += list1[i]\n",
    "    average = sum_of_list/len(list1)\n",
    "    return average\n",
    "  \n",
    "list1 = [ 5.670e-1, -1.480e+0, -5.570e-1, -1.470e+0, 7.340e-1, 1.050e+0, 4.480e-1, 2.570e-1, -1.970e+0, -1.460e+0]\n",
    "average = Average(list1)\n",
    "print(\"Average of the list =\", (average))"
   ]
  },
  {
   "cell_type": "markdown",
   "id": "9af46c44-4c15-4ef2-bbca-29df4e876393",
   "metadata": {},
   "source": [
    "subtract the mean of the elements in the list from every element in the list; store these values in a new list"
   ]
  },
  {
   "cell_type": "code",
   "execution_count": 107,
   "id": "d60dd86c-7be0-413b-9803-febedde7050d",
   "metadata": {},
   "outputs": [
    {
     "name": "stdout",
     "output_type": "stream",
     "text": [
      "lst2 [0.567, -1.48, -0.557, -1.47, 0.734, 1.05, 0.448, 0.257, -1.97, -1.46]\n"
     ]
    }
   ],
   "source": [
    "list1 = [ 5.670e-1, -1.480e+0, -5.570e-1, -1.470e+0, 7.340e-1, 1.050e+0, 4.480e-1, 2.570e-1, -1.970e+0, -1.460e+0]\n",
    "lst2 = [x -1 - 0.3881 for x in list1]\n",
    "print(\"lst2\", list1)"
   ]
  },
  {
   "cell_type": "markdown",
   "id": "f7d1f8f8-ca50-43f4-b097-65865e442786",
   "metadata": {},
   "source": [
    "square every element in the new list and sum the elements together"
   ]
  },
  {
   "cell_type": "code",
   "execution_count": 106,
   "id": "6dec488d-8c40-4ef7-832b-93bf01787b42",
   "metadata": {},
   "outputs": [
    {
     "ename": "TypeError",
     "evalue": "list indices must be integers or slices, not tuple",
     "output_type": "error",
     "traceback": [
      "\u001b[0;31m---------------------------------------------------------------------------\u001b[0m",
      "\u001b[0;31mTypeError\u001b[0m                                 Traceback (most recent call last)",
      "Input \u001b[0;32mIn [106]\u001b[0m, in \u001b[0;36m<cell line: 1>\u001b[0;34m()\u001b[0m\n\u001b[0;32m----> 1\u001b[0m \u001b[43mlst2\u001b[49m\u001b[43m \u001b[49m\u001b[43m[\u001b[49m\u001b[38;5;241;43m0.567\u001b[39;49m\u001b[43m,\u001b[49m\u001b[43m \u001b[49m\u001b[38;5;241;43m-\u001b[39;49m\u001b[38;5;241;43m1.48\u001b[39;49m\u001b[43m,\u001b[49m\u001b[43m \u001b[49m\u001b[38;5;241;43m-\u001b[39;49m\u001b[38;5;241;43m0.557\u001b[39;49m\u001b[43m,\u001b[49m\u001b[43m \u001b[49m\u001b[38;5;241;43m-\u001b[39;49m\u001b[38;5;241;43m1.47\u001b[39;49m\u001b[43m,\u001b[49m\u001b[43m \u001b[49m\u001b[38;5;241;43m0.734\u001b[39;49m\u001b[43m,\u001b[49m\u001b[43m \u001b[49m\u001b[38;5;241;43m1.05\u001b[39;49m\u001b[43m,\u001b[49m\u001b[43m \u001b[49m\u001b[38;5;241;43m0.448\u001b[39;49m\u001b[43m,\u001b[49m\u001b[43m \u001b[49m\u001b[38;5;241;43m0.257\u001b[39;49m\u001b[43m,\u001b[49m\u001b[43m \u001b[49m\u001b[38;5;241;43m-\u001b[39;49m\u001b[38;5;241;43m1.97\u001b[39;49m\u001b[43m,\u001b[49m\u001b[43m \u001b[49m\u001b[38;5;241;43m-\u001b[39;49m\u001b[38;5;241;43m1.46\u001b[39;49m\u001b[43m]\u001b[49m\n\u001b[1;32m      2\u001b[0m \u001b[38;5;28;01mdef\u001b[39;00m \u001b[38;5;21msquare\u001b[39m(lst2):\n\u001b[1;32m      3\u001b[0m     \u001b[38;5;28;01mreturn\u001b[39;00m [i \u001b[38;5;241m*\u001b[39m\u001b[38;5;241m*\u001b[39m \u001b[38;5;241m2\u001b[39m \u001b[38;5;28;01mfor\u001b[39;00m i \u001b[38;5;129;01min\u001b[39;00m lst2]\n",
      "\u001b[0;31mTypeError\u001b[0m: list indices must be integers or slices, not tuple"
     ]
    }
   ],
   "source": [
    "lst2 [0.567, -1.48, -0.557, -1.47, 0.734, 1.05, 0.448, 0.257, -1.97, -1.46]\n",
    "def square(lst2):\n",
    "    return [i ** 2 for i in lst2]\n",
    "print(\"The sum of the squared numbers is\", sum)"
   ]
  },
  {
   "cell_type": "markdown",
   "id": "10fd18c5-d3d7-480a-97f3-b00c8ee0089e",
   "metadata": {},
   "source": [
    "divide the resulting number by N (where N is the length of the original list)"
   ]
  },
  {
   "cell_type": "code",
   "execution_count": 108,
   "id": "baa210ed-b0d4-45d8-9114-166dcfbad48d",
   "metadata": {},
   "outputs": [],
   "source": [
    "N=10"
   ]
  },
  {
   "cell_type": "code",
   "execution_count": 67,
   "id": "fbf8ae01-6ce8-4e69-804c-3fc433b26d12",
   "metadata": {},
   "outputs": [
    {
     "name": "stdout",
     "output_type": "stream",
     "text": [
      "The sum of the squared numbers is 8.166666666666666\n"
     ]
    }
   ],
   "source": [
    "lst2 = [-18, -13, -10, 15, 48, -22]\n",
    "def square(lst2):\n",
    "    return [i ** 2 for i in lst2]\n",
    "print(\"The sum of the squared numbers is\", sum/6)"
   ]
  },
  {
   "cell_type": "markdown",
   "id": "40da4bf1-21d2-4a15-b50b-c9da8236affb",
   "metadata": {},
   "source": [
    "6. Create a list with at least 15 elements in it. Use list slicing to print the following:"
   ]
  },
  {
   "cell_type": "code",
   "execution_count": 70,
   "id": "5dccc45b-c2eb-40bc-ab4b-60ce6ff3e045",
   "metadata": {},
   "outputs": [
    {
     "name": "stdout",
     "output_type": "stream",
     "text": [
      "[0, 1, 2, 3, 4, 5, 6, 7, 8, 9, 10, 11, 12, 13, 14, 15]\n"
     ]
    }
   ],
   "source": [
    "my_list = list(range(16))\n",
    "print(my_list)"
   ]
  },
  {
   "cell_type": "markdown",
   "id": "db2b6c84-22ce-4cc9-a2f0-d1480796f82b",
   "metadata": {},
   "source": [
    "The first 5 elements of the list"
   ]
  },
  {
   "cell_type": "code",
   "execution_count": 72,
   "id": "638e26b7-7786-44ac-a10e-3f95442c086e",
   "metadata": {},
   "outputs": [
    {
     "name": "stdout",
     "output_type": "stream",
     "text": [
      "[0, 1, 2, 3, 4]\n"
     ]
    }
   ],
   "source": [
    "print(my_list[0:5])"
   ]
  },
  {
   "cell_type": "markdown",
   "id": "42990281-2194-43df-b316-8863fa960c02",
   "metadata": {},
   "source": [
    "The last 5 elements of the list"
   ]
  },
  {
   "cell_type": "code",
   "execution_count": 75,
   "id": "f7aecf4d-e800-417b-adca-f8e1b2e45a48",
   "metadata": {},
   "outputs": [
    {
     "name": "stdout",
     "output_type": "stream",
     "text": [
      "[11, 12, 13, 14, 15]\n"
     ]
    }
   ],
   "source": [
    "print(my_list[11:16])"
   ]
  },
  {
   "cell_type": "markdown",
   "id": "af6be409-59f9-4409-86ad-17ecef19f9af",
   "metadata": {},
   "source": [
    "The list reversed (hint, show the entire list with a stride of -1)"
   ]
  },
  {
   "cell_type": "code",
   "execution_count": 76,
   "id": "ab67eab4-9e6f-4fe5-bc99-3ccdfc55cd99",
   "metadata": {},
   "outputs": [
    {
     "name": "stdout",
     "output_type": "stream",
     "text": [
      "[15, 14, 13, 12, 11, 10, 9, 8, 7, 6, 5, 4, 3, 2, 1, 0]\n"
     ]
    }
   ],
   "source": [
    "print(my_list[::-1])"
   ]
  },
  {
   "cell_type": "markdown",
   "id": "8e540ecf-66b2-4442-ad23-24ea1a675c9a",
   "metadata": {},
   "source": [
    "Every second element in the list"
   ]
  },
  {
   "cell_type": "code",
   "execution_count": 77,
   "id": "0970a6f4-53ee-41c9-a144-0c8785e9da75",
   "metadata": {},
   "outputs": [
    {
     "name": "stdout",
     "output_type": "stream",
     "text": [
      "[0, 2, 4, 6, 8, 10, 12, 14]\n"
     ]
    }
   ],
   "source": [
    "print(my_list[::2])"
   ]
  },
  {
   "cell_type": "markdown",
   "id": "dc532c36-c327-44da-b2d8-4c609eee5bfc",
   "metadata": {},
   "source": [
    "Every third element in the list (stride of 3)"
   ]
  },
  {
   "cell_type": "code",
   "execution_count": 78,
   "id": "5219fefd-7c90-4e7b-8165-8fd0e068c193",
   "metadata": {},
   "outputs": [
    {
     "name": "stdout",
     "output_type": "stream",
     "text": [
      "[0, 3, 6, 9, 12, 15]\n"
     ]
    }
   ],
   "source": [
    "print(my_list[::3])"
   ]
  },
  {
   "cell_type": "markdown",
   "id": "b860946f-1ee5-4191-986a-1249cc2a7d74",
   "metadata": {},
   "source": [
    "7. Build a dictionary that contains the following information about this class (with appropriate names as keys):\n",
    "    \"* The name\\n\",\n",
    "    \"* The course number\\n\",\n",
    "    \"* The semester/term in which you are taking this course\\n\",\n",
    "    \"* The number of credit hours this course counts for\\n\",\n",
    "    \"* A list of the course learning objectives\\n"
   ]
  },
  {
   "cell_type": "code",
   "execution_count": 79,
   "id": "a90b5849-9f15-4bce-a097-8c0bab6b74c4",
   "metadata": {},
   "outputs": [],
   "source": [
    "my_dict = {'name': 'Web Mining and Applied Natural Language Processing', 'Course Number': '44-620', 'The Semester/term': 'Fall 2022 – Block 2', 'Number of Credit Hours': '3', \"List of Course Learning Objectives\": 'L01. Manage Python libraries and packages,. Interact with Hosted Version Control Systems (e.g. Git and GitHub), Programmatically obtain and transform data from web-based APIs and HTML pages into a usable form, L04. Describe the steps in a basic Natural Language Processing Pipeline, L05. Use preexisting tools and software libraries to perform some Natural Language Processing, such as sentiment analysis, L06. Explain results and conclusions drawn from the visualized information.'}"
   ]
  },
  {
   "cell_type": "code",
   "execution_count": 81,
   "id": "266fb773-3930-49d0-97cd-17dc7f4a8075",
   "metadata": {},
   "outputs": [
    {
     "name": "stdout",
     "output_type": "stream",
     "text": [
      "Web Mining and Applied Natural Language Processing\n"
     ]
    }
   ],
   "source": [
    "print(my_dict['name'])"
   ]
  },
  {
   "cell_type": "code",
   "execution_count": 84,
   "id": "c890911b-fa48-43fe-b284-9927972e5d8a",
   "metadata": {},
   "outputs": [
    {
     "name": "stdout",
     "output_type": "stream",
     "text": [
      "44-620\n"
     ]
    }
   ],
   "source": [
    "print(my_dict['Course Number'])"
   ]
  },
  {
   "cell_type": "code",
   "execution_count": 85,
   "id": "78d5fa71-c659-4e69-9a9d-87acf9db3fbd",
   "metadata": {},
   "outputs": [
    {
     "name": "stdout",
     "output_type": "stream",
     "text": [
      "Fall 2022 – Block 2\n"
     ]
    }
   ],
   "source": [
    "print(my_dict['The Semester/term'])"
   ]
  },
  {
   "cell_type": "code",
   "execution_count": 86,
   "id": "89da0a50-53fa-429b-afc2-dcf77f511420",
   "metadata": {},
   "outputs": [
    {
     "name": "stdout",
     "output_type": "stream",
     "text": [
      "3\n"
     ]
    }
   ],
   "source": [
    "print(my_dict['Number of Credit Hours'])"
   ]
  },
  {
   "cell_type": "code",
   "execution_count": 87,
   "id": "dfa2c275-21c8-4548-8162-870613e14ee0",
   "metadata": {},
   "outputs": [
    {
     "name": "stdout",
     "output_type": "stream",
     "text": [
      "L01. Manage Python libraries and packages,. Interact with Hosted Version Control Systems (e.g. Git and GitHub), Programmatically obtain and transform data from web-based APIs and HTML pages into a usable form, L04. Describe the steps in a basic Natural Language Processing Pipeline, L05. Use preexisting tools and software libraries to perform some Natural Language Processing, such as sentiment analysis, L06. Explain results and conclusions drawn from the visualized information.\n"
     ]
    }
   ],
   "source": [
    "print(my_dict['List of Course Learning Objectives'])"
   ]
  },
  {
   "cell_type": "code",
   "execution_count": 88,
   "id": "5704b61a-ea61-4458-acd7-c9d47649df72",
   "metadata": {},
   "outputs": [
    {
     "name": "stdout",
     "output_type": "stream",
     "text": [
      "{'name': 'Web Mining and Applied Natural Language Processing', 'Course Number': '44-620', 'The Semester/term': 'Fall 2022 – Block 2', 'Number of Credit Hours': '3', 'List of Course Learning Objectives': 'L01. Manage Python libraries and packages,. Interact with Hosted Version Control Systems (e.g. Git and GitHub), Programmatically obtain and transform data from web-based APIs and HTML pages into a usable form, L04. Describe the steps in a basic Natural Language Processing Pipeline, L05. Use preexisting tools and software libraries to perform some Natural Language Processing, such as sentiment analysis, L06. Explain results and conclusions drawn from the visualized information.'}\n"
     ]
    }
   ],
   "source": [
    "print(my_dict)"
   ]
  },
  {
   "cell_type": "markdown",
   "id": "46970658-b7c2-41b5-9cc9-57d17a468d2a",
   "metadata": {},
   "source": [
    "8. Given the dictionary defined in the code cell below, print the list of level 3 spells the character has."
   ]
  },
  {
   "cell_type": "code",
   "execution_count": 109,
   "id": "9f3c9428-6d7c-43c4-aac3-1aeb49aed4d3",
   "metadata": {},
   "outputs": [],
   "source": [
    "player_character = {'name': 'Kitab',\n",
    "                   'class': [('Cleric: Knowledge', 7)],\n",
    "                   'spells': {'cantrip': ['Guidance', 'Light', 'Thaumaturgy', 'Toll the Dead', 'Word of Radiance'],\n",
    "                             'level 1': ['Command', 'Detect Magic', 'Healing Word', 'Identify', 'Sleep'],\n",
    "                             'level 2': ['Augury', 'Calm Emotions', 'Command', 'Invisibility', 'Lesser Restoration'],\n",
    "                             'level 3': ['Mass Healing Word', 'Nondetection', 'Revivify', 'Feign Death', 'Speak with Dead'],\n",
    "                             'level 4': ['Banishment', 'Confusion']}\n",
    "                   }"
   ]
  },
  {
   "cell_type": "code",
   "execution_count": 116,
   "id": "e7ce43f6-3995-4ee6-8ac4-be6c342a5bfe",
   "metadata": {},
   "outputs": [
    {
     "name": "stdout",
     "output_type": "stream",
     "text": [
      "['Mass Healing Word', 'Nondetection', 'Revivify', 'Feign Death', 'Speak with Dead']\n"
     ]
    }
   ],
   "source": [
    "player_character['spells'] = ['Mass Healing Word', 'Nondetection', 'Revivify', 'Feign Death', 'Speak with Dead']\n",
    "print(player_character['spells'])"
   ]
  },
  {
   "cell_type": "markdown",
   "id": "6adac17e-84ff-442d-948b-5b18cf5c8002",
   "metadata": {},
   "source": [
    "9. Write code to determine the number of unique elements in the list below. You MUST use a set in finding your solution. Print the number of unique values in the list with an appropriate label."
   ]
  },
  {
   "cell_type": "code",
   "execution_count": 141,
   "id": "b509bf17-497f-4a54-89f6-cf4b4149f12e",
   "metadata": {},
   "outputs": [
    {
     "name": "stdout",
     "output_type": "stream",
     "text": [
      "[0, 1, 5, 6, 7, 8, 9, 10, 11, 12, 13, 15]\n"
     ]
    }
   ],
   "source": [
    "numbers = [10, 11, 10, 8, 1, 12, 0, 1, 6, 5, 5, 13, 6, 15, 0, 0, 1, 1, 9, 7]\n",
    "\n",
    "\n",
    "def get_unique_numbers(values):\n",
    "\n",
    "    list_of_unique_numbers = []\n",
    "\n",
    "    unique_numbers = set(numbers)\n",
    "\n",
    "    for number in unique_numbers:\n",
    "        list_of_unique_numbers.append(number)\n",
    "\n",
    "    return list_of_unique_numbers\n",
    "\n",
    "\n",
    "print(get_unique_numbers(numbers))"
   ]
  }
 ],
 "metadata": {
  "kernelspec": {
   "display_name": "Python 3 (ipykernel)",
   "language": "python",
   "name": "python3"
  },
  "language_info": {
   "codemirror_mode": {
    "name": "ipython",
    "version": 3
   },
   "file_extension": ".py",
   "mimetype": "text/x-python",
   "name": "python",
   "nbconvert_exporter": "python",
   "pygments_lexer": "ipython3",
   "version": "3.9.12"
  }
 },
 "nbformat": 4,
 "nbformat_minor": 5
}
